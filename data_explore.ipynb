{
 "cells": [
  {
   "cell_type": "code",
   "execution_count": 13,
   "id": "188c3c39",
   "metadata": {},
   "outputs": [],
   "source": [
    "import pandas as pd\n",
    "from constants import (\n",
    "    FILE_NAMES,\n",
    "    SPECIAL_HANDLING,\n",
    "    SPECIAL_RECOMMENDABLES,\n",
    "    CORE_MODALITIES\n",
    ")"
   ]
  },
  {
   "cell_type": "code",
   "execution_count": 3,
   "id": "c1d42ad5",
   "metadata": {},
   "outputs": [],
   "source": [
    "mappings = pd.read_parquet(FILE_NAMES[\"mappings\"])\n",
    "mappings.sort_index(inplace=True, na_position=\"first\")\n",
    "report_codes = pd.read_parquet(FILE_NAMES[\"report_codes\"])\n",
    "recommendables = pd.read_parquet(FILE_NAMES[\"recommendables\"])\n",
    "modality_mappings = pd.read_parquet(FILE_NAMES[\"modality_mappings\"])"
   ]
  },
  {
   "cell_type": "code",
   "execution_count": 4,
   "id": "25197f55",
   "metadata": {},
   "outputs": [],
   "source": [
    "mapped_recommendables = mappings[\"Recommendable\"].unique()\n",
    "report_code_recommendables = report_codes[\"InsertedRecommendable\"].unique()"
   ]
  },
  {
   "cell_type": "code",
   "execution_count": 14,
   "id": "e05d2272",
   "metadata": {},
   "outputs": [],
   "source": [
    "core_recommendables = recommendables[recommendables[\"Modality\"].isin(CORE_MODALITIES)]"
   ]
  },
  {
   "cell_type": "code",
   "execution_count": 16,
   "id": "b4cfe975",
   "metadata": {},
   "outputs": [
    {
     "data": {
      "application/vnd.microsoft.datawrangler.viewer.v0+json": {
       "columns": [
        {
         "name": "index",
         "rawType": "int64",
         "type": "integer"
        },
        {
         "name": "Name",
         "rawType": "object",
         "type": "string"
        },
        {
         "name": "Category",
         "rawType": "category",
         "type": "unknown"
        },
        {
         "name": "Modality",
         "rawType": "object",
         "type": "string"
        },
        {
         "name": "Region",
         "rawType": "category",
         "type": "unknown"
        }
       ],
       "ref": "51125342-2b2b-413f-a06f-b4337fc7fa1d",
       "rows": [
        [
         "4",
         "Recommendation for Additional Imaging - Laterality Unspecified",
         "special",
         "MG",
         null
        ],
        [
         "5",
         "Recommendation for Additional Imaging - Laterality Unspecified",
         "special",
         "MR",
         null
        ],
        [
         "6",
         "Recommendation for Additional Imaging - Laterality Unspecified",
         "special",
         "MRA",
         null
        ],
        [
         "9",
         "Recommendation for Additional Imaging - Laterality Unspecified",
         "special",
         "US",
         null
        ],
        [
         "37",
         "MRA Popliteal Entrapment Left",
         "cv",
         "MRA",
         "leg"
        ],
        [
         "41",
         "MR Sinus",
         "neuro",
         "MR",
         "head"
        ],
        [
         "45",
         "CT Enterography",
         "abdominal",
         "CT",
         "abdomen"
        ],
        [
         "54",
         "CT Femur Right",
         "msk",
         "CT",
         "leg"
        ],
        [
         "56",
         "CT Finger Right",
         "msk",
         "CT",
         "arm"
        ],
        [
         "59",
         "CT Hand Left",
         "msk",
         "CT",
         "arm"
        ],
        [
         "60",
         "CT Hand Right",
         "msk",
         "CT",
         "arm"
        ],
        [
         "61",
         "CT Hip Right",
         "msk",
         "CT",
         "pelvis"
        ],
        [
         "63",
         "CT Humerus Left",
         "msk",
         "CT",
         "arm"
        ],
        [
         "64",
         "CT Knee Left",
         "msk",
         "CT",
         "leg"
        ],
        [
         "65",
         "CT Knee Right",
         "msk",
         "CT",
         "leg"
        ],
        [
         "71",
         "CT Wrist Left",
         "msk",
         "CT",
         "arm"
        ],
        [
         "72",
         "CTA Head",
         "neuro",
         "CT",
         "head"
        ],
        [
         "73",
         "CTA Head",
         "neuro",
         "CTA",
         "head"
        ],
        [
         "76",
         "CTA Pelvis",
         "cv",
         "CTA",
         "pelvis"
        ],
        [
         "77",
         "CT Chest",
         "thoracic",
         "CT",
         "chest"
        ],
        [
         "78",
         "CT Chest PE",
         "thoracic",
         "CT",
         "chest"
        ],
        [
         "79",
         "CTA Abdomen Pelvis",
         "cv",
         "CT",
         "abdomen"
        ],
        [
         "80",
         "CTA Abdomen Pelvis",
         "cv",
         "CTA",
         "abdomen"
        ],
        [
         "84",
         "CTA Upper Extremity Left",
         "cv",
         "CT",
         "arm"
        ],
        [
         "85",
         "CTA Upper Extremity Right",
         "cv",
         "CT",
         "arm"
        ],
        [
         "88",
         "CT Thoracic Spine",
         "spine",
         "CT",
         "chest"
        ],
        [
         "89",
         "FL Barium Enema",
         "abdominal",
         "Fluoroscopy",
         "abdomen"
        ],
        [
         "90",
         "FL Barium Swallow",
         "abdominal",
         "Fluoroscopy",
         "chest"
        ],
        [
         "93",
         "Recommendation for Additional Imaging - Laterality Unspecified",
         "special",
         "Radiography",
         null
        ],
        [
         "95",
         "Recommendation for Additional Imaging - Laterality Unspecified",
         "special",
         "US Duplex",
         null
        ],
        [
         "98",
         "MR Skull Base",
         "neuro",
         "MR",
         "head"
        ],
        [
         "100",
         "CT Cervical Thoracic Lumbar Myelography",
         "spine",
         "Myelography",
         "body"
        ],
        [
         "102",
         "MR Cervical Thoracic Lumbar Spine",
         "spine",
         "MR",
         "body"
        ],
        [
         "105",
         "MRA Abdomen Pelvis",
         "cv",
         "MRA",
         "abdomen"
        ],
        [
         "108",
         "CT Cystogram",
         "abdominal",
         "CT",
         "abdomen"
        ],
        [
         "110",
         "CT Liver",
         "abdominal",
         "CT",
         "abdomen"
        ],
        [
         "112",
         "CT Renal",
         "abdominal",
         "CT",
         "abdomen"
        ],
        [
         "114",
         "CT Sinus",
         "neuro",
         "CT",
         "head"
        ],
        [
         "115",
         "MR Adrenal",
         "abdominal",
         "MR",
         "abdomen"
        ],
        [
         "123",
         "MR Parotid",
         "neuro",
         "MR",
         "head"
        ],
        [
         "129",
         "CT Abdomen Pelvis",
         "abdominal",
         "CT",
         "abdomen"
        ],
        [
         "130",
         "CT Abdomen Pelvis",
         "abdominal",
         "CTA",
         "abdomen"
        ],
        [
         "131",
         "CT Ankle Right",
         "msk",
         "CT",
         "leg"
        ],
        [
         "132",
         "CT Elbow Right",
         "msk",
         "CT",
         "arm"
        ],
        [
         "134",
         "CT Finger Left",
         "msk",
         "CT",
         "arm"
        ],
        [
         "140",
         "CT Hip Left",
         "msk",
         "CT",
         "pelvis"
        ],
        [
         "143",
         "CT Tibia Fibula Left",
         "msk",
         "CT",
         "leg"
        ],
        [
         "145",
         "CT Shoulder Right",
         "msk",
         "CT",
         "arm"
        ],
        [
         "146",
         "CT Toe Left",
         "msk",
         "CT",
         "leg"
        ],
        [
         "147",
         "CT Toe Right",
         "msk",
         "CT",
         "leg"
        ]
       ],
       "shape": {
        "columns": 4,
        "rows": 772
       }
      },
      "text/html": [
       "<div>\n",
       "<style scoped>\n",
       "    .dataframe tbody tr th:only-of-type {\n",
       "        vertical-align: middle;\n",
       "    }\n",
       "\n",
       "    .dataframe tbody tr th {\n",
       "        vertical-align: top;\n",
       "    }\n",
       "\n",
       "    .dataframe thead th {\n",
       "        text-align: right;\n",
       "    }\n",
       "</style>\n",
       "<table border=\"1\" class=\"dataframe\">\n",
       "  <thead>\n",
       "    <tr style=\"text-align: right;\">\n",
       "      <th></th>\n",
       "      <th>Name</th>\n",
       "      <th>Category</th>\n",
       "      <th>Modality</th>\n",
       "      <th>Region</th>\n",
       "    </tr>\n",
       "  </thead>\n",
       "  <tbody>\n",
       "    <tr>\n",
       "      <th>4</th>\n",
       "      <td>Recommendation for Additional Imaging - Latera...</td>\n",
       "      <td>special</td>\n",
       "      <td>MG</td>\n",
       "      <td>NaN</td>\n",
       "    </tr>\n",
       "    <tr>\n",
       "      <th>5</th>\n",
       "      <td>Recommendation for Additional Imaging - Latera...</td>\n",
       "      <td>special</td>\n",
       "      <td>MR</td>\n",
       "      <td>NaN</td>\n",
       "    </tr>\n",
       "    <tr>\n",
       "      <th>6</th>\n",
       "      <td>Recommendation for Additional Imaging - Latera...</td>\n",
       "      <td>special</td>\n",
       "      <td>MRA</td>\n",
       "      <td>NaN</td>\n",
       "    </tr>\n",
       "    <tr>\n",
       "      <th>9</th>\n",
       "      <td>Recommendation for Additional Imaging - Latera...</td>\n",
       "      <td>special</td>\n",
       "      <td>US</td>\n",
       "      <td>NaN</td>\n",
       "    </tr>\n",
       "    <tr>\n",
       "      <th>37</th>\n",
       "      <td>MRA Popliteal Entrapment Left</td>\n",
       "      <td>cv</td>\n",
       "      <td>MRA</td>\n",
       "      <td>leg</td>\n",
       "    </tr>\n",
       "    <tr>\n",
       "      <th>...</th>\n",
       "      <td>...</td>\n",
       "      <td>...</td>\n",
       "      <td>...</td>\n",
       "      <td>...</td>\n",
       "    </tr>\n",
       "    <tr>\n",
       "      <th>1492</th>\n",
       "      <td>XR Chest Lordotic</td>\n",
       "      <td>thoracic</td>\n",
       "      <td>Radiography</td>\n",
       "      <td>chest</td>\n",
       "    </tr>\n",
       "    <tr>\n",
       "      <th>1501</th>\n",
       "      <td>XR Chest Nipple Markers</td>\n",
       "      <td>msk</td>\n",
       "      <td>Radiography</td>\n",
       "      <td>chest</td>\n",
       "    </tr>\n",
       "    <tr>\n",
       "      <th>1510</th>\n",
       "      <td>XR Chest Nipple Markers</td>\n",
       "      <td>thoracic</td>\n",
       "      <td>Radiography</td>\n",
       "      <td>chest</td>\n",
       "    </tr>\n",
       "    <tr>\n",
       "      <th>1519</th>\n",
       "      <td>XR Hips with Pelvis Bilateral</td>\n",
       "      <td>msk</td>\n",
       "      <td>Radiography</td>\n",
       "      <td>pelvis</td>\n",
       "    </tr>\n",
       "    <tr>\n",
       "      <th>1529</th>\n",
       "      <td>CT Chest Screening Annual</td>\n",
       "      <td>thoracic</td>\n",
       "      <td>CT</td>\n",
       "      <td>chest</td>\n",
       "    </tr>\n",
       "  </tbody>\n",
       "</table>\n",
       "<p>772 rows × 4 columns</p>\n",
       "</div>"
      ],
      "text/plain": [
       "                                                   Name  Category  \\\n",
       "4     Recommendation for Additional Imaging - Latera...   special   \n",
       "5     Recommendation for Additional Imaging - Latera...   special   \n",
       "6     Recommendation for Additional Imaging - Latera...   special   \n",
       "9     Recommendation for Additional Imaging - Latera...   special   \n",
       "37                        MRA Popliteal Entrapment Left        cv   \n",
       "...                                                 ...       ...   \n",
       "1492                                  XR Chest Lordotic  thoracic   \n",
       "1501                            XR Chest Nipple Markers       msk   \n",
       "1510                            XR Chest Nipple Markers  thoracic   \n",
       "1519                      XR Hips with Pelvis Bilateral       msk   \n",
       "1529                          CT Chest Screening Annual  thoracic   \n",
       "\n",
       "         Modality  Region  \n",
       "4              MG     NaN  \n",
       "5              MR     NaN  \n",
       "6             MRA     NaN  \n",
       "9              US     NaN  \n",
       "37            MRA     leg  \n",
       "...           ...     ...  \n",
       "1492  Radiography   chest  \n",
       "1501  Radiography   chest  \n",
       "1510  Radiography   chest  \n",
       "1519  Radiography  pelvis  \n",
       "1529           CT   chest  \n",
       "\n",
       "[772 rows x 4 columns]"
      ]
     },
     "execution_count": 16,
     "metadata": {},
     "output_type": "execute_result"
    }
   ],
   "source": [
    "core_recommendables"
   ]
  },
  {
   "cell_type": "code",
   "execution_count": 11,
   "id": "885634bb",
   "metadata": {},
   "outputs": [],
   "source": [
    "def get_code_for_recommendable(\n",
    "    report_codes: pd.DataFrame, recommendable: str\n",
    ") -> str | None:\n",
    "    try:\n",
    "        codes = report_codes[report_codes[\"InsertedRecommendable\"] == recommendable][\n",
    "            \"code\"\n",
    "        ]\n",
    "        return codes.iloc[0] if not codes.empty else None\n",
    "    except IndexError:\n",
    "        return None\n",
    "\n",
    "def classify_recommendable(recommendable: str) -> str:\n",
    "    if recommendable == SPECIAL_HANDLING:\n",
    "        return \"SpecialHandling\"\n",
    "    if (\n",
    "        recommendable in mapped_recommendables\n",
    "        or recommendable in SPECIAL_RECOMMENDABLES\n",
    "    ):\n",
    "        return \"—\"\n",
    "    if recommendable in report_code_recommendables:\n",
    "        code = get_code_for_recommendable(report_codes, recommendable)\n",
    "        assert code is not None\n",
    "        return code\n",
    "    return \"Unknown\""
   ]
  },
  {
   "cell_type": "code",
   "execution_count": null,
   "id": "5b3ca64b",
   "metadata": {},
   "outputs": [],
   "source": [
    "recommendables[\"Code\"] = recommendables[\"Name\"].apply(classify_recommendable)"
   ]
  },
  {
   "cell_type": "code",
   "execution_count": 17,
   "id": "177fbcc3",
   "metadata": {},
   "outputs": [],
   "source": [
    "# First, get all of the unique recommendable names in the mappings DataFrame\n",
    "unique_recommendables = mappings[\"Recommendable\"].unique()\n",
    "# Then, get all of the unique recommendable names in the report_codes DF\n",
    "unique_report_codes = report_codes[\"InsertedRecommendable\"].unique()\n",
    "# Combine both sets of unique recommendables\n",
    "all_recommendables = set(unique_recommendables).union(set(unique_report_codes))"
   ]
  },
  {
   "cell_type": "code",
   "execution_count": 18,
   "id": "e26e414c",
   "metadata": {},
   "outputs": [],
   "source": [
    "old_recommendables = pd.read_csv(\"data/old/recommendables.csv\")"
   ]
  },
  {
   "cell_type": "code",
   "execution_count": 20,
   "id": "5e2e3935",
   "metadata": {},
   "outputs": [],
   "source": [
    "# Find the recommendables in the all_recommendables set that are not in the old_recommendables DataFrame\n",
    "missing_recommendables = all_recommendables.difference(\n",
    "    set(old_recommendables[\"name\"].unique())\n",
    ")"
   ]
  },
  {
   "cell_type": "code",
   "execution_count": 21,
   "id": "297c180f",
   "metadata": {},
   "outputs": [
    {
     "name": "stdout",
     "output_type": "stream",
     "text": [
      "Missing recommendables: US Upper Extremity Non-Venous Right\n",
      "US Lower Extremity Non-Venous Right\n",
      "XR Thoracic Spine\n",
      "MR Pulmonary vein\n",
      "XR Sacrum and Coccyx\n",
      "US Lower Back\n",
      "XR Toe Right\n",
      "MR Pelvis\n",
      "US Lower Extremity Non-Venous Left\n",
      "US Breast Bilateral\n",
      "US Axilla Not Breast Left\n",
      "XR Sacroiliac Joints\n",
      "MRI Toe Right\n",
      "XR Toe Left\n",
      "CT Pulmonary veins\n",
      "XR Skull\n",
      "US Upper Back\n",
      "NM HIDA\n",
      "MRI Toe Left\n",
      "US Axilla Not Breast Right\n",
      "US Neck Lymph Node Survey\n",
      "CT Chest Esophagus\n",
      "XR Sternum\n",
      "US Upper Extremity Non-Venous Left\n",
      "US Infant Spinal Canal\n",
      "US Infant Hips\n",
      "XR Skeletal Survey\n"
     ]
    }
   ],
   "source": [
    "print(\"Missing recommendables:\", \"\\n\".join(missing_recommendables))"
   ]
  },
  {
   "cell_type": "code",
   "execution_count": 22,
   "id": "280ad819",
   "metadata": {},
   "outputs": [],
   "source": [
    "new_recommendables = pd.read_csv(\"data/recommendables.csv\")"
   ]
  },
  {
   "cell_type": "code",
   "execution_count": 23,
   "id": "53080937",
   "metadata": {},
   "outputs": [
    {
     "name": "stdout",
     "output_type": "stream",
     "text": [
      "<class 'pandas.core.frame.DataFrame'>\n",
      "RangeIndex: 427 entries, 0 to 426\n",
      "Data columns (total 5 columns):\n",
      " #   Column    Non-Null Count  Dtype \n",
      "---  ------    --------------  ----- \n",
      " 0   id        427 non-null    int64 \n",
      " 1   name      427 non-null    object\n",
      " 2   category  427 non-null    object\n",
      " 3   modality  422 non-null    object\n",
      " 4   region    422 non-null    object\n",
      "dtypes: int64(1), object(4)\n",
      "memory usage: 16.8+ KB\n"
     ]
    }
   ],
   "source": [
    "old_recommendables.info()"
   ]
  },
  {
   "cell_type": "code",
   "execution_count": 30,
   "id": "40ef1926",
   "metadata": {},
   "outputs": [],
   "source": [
    "# Using new_recommendables to get the missing fields, create new rows in old_recommendables for each missing recommendable\n",
    "new_rows = []\n",
    "for recommendable in missing_recommendables:\n",
    "    if recommendable in new_recommendables[\"name\"].values:\n",
    "        new_row = new_recommendables[new_recommendables[\"name\"] == recommendable]\n",
    "        if not new_row.empty:\n",
    "            new_row = new_row.iloc[0]\n",
    "            new_rows.append(\n",
    "                {\n",
    "                    \"id\": new_row[\"ID\"],\n",
    "                    \"name\": recommendable,\n",
    "                    \"modality\": new_row[\"Modality\"],\n",
    "                    \"region\": new_row[\"Region\"],\n",
    "                    \"category\": new_row[\"Category\"],\n",
    "                }\n",
    "            )"
   ]
  },
  {
   "cell_type": "code",
   "execution_count": 31,
   "id": "83d2b0ab",
   "metadata": {},
   "outputs": [],
   "source": [
    "# create a new all_recommendables DataFrame with the old_recommendables and the new rows\n",
    "if new_rows:\n",
    "    new_recommendables_df = pd.DataFrame(new_rows)\n",
    "    all_recommendables_df = pd.concat([old_recommendables, new_recommendables_df], ignore_index=True)"
   ]
  },
  {
   "cell_type": "code",
   "execution_count": 34,
   "id": "ce5f133a",
   "metadata": {},
   "outputs": [],
   "source": [
    "# What are the duplicated names in the all_recommendables_df?\n",
    "duplicated_names = all_recommendables_df[all_recommendables_df.duplicated(subset=[\"name\"], keep=False)]\n",
    "if not duplicated_names.empty:\n",
    "    print(\"Duplicated names in all_recommendables_df:\")\n",
    "    print(duplicated_names)"
   ]
  },
  {
   "cell_type": "code",
   "execution_count": 35,
   "id": "3e8fcc1b",
   "metadata": {},
   "outputs": [
    {
     "name": "stdout",
     "output_type": "stream",
     "text": [
      "Extra recommendables in all_recommendables_df that are not in all_recommendables set:\n",
      "NM Gallbladder HIDA\n",
      "Interventional Procedure Recommendation\n",
      "Additional Imaging Needed\n"
     ]
    }
   ],
   "source": [
    "# Why are there 451 in the all_recommendables set, but 453 in the all_recommendables_df?\n",
    "# What is in the all_recommendables_df that is not in the all_recommendables set?\n",
    "extra_recommendables = set(all_recommendables_df[\"name\"].unique()).difference(all_recommendables)\n",
    "if extra_recommendables:\n",
    "    print(\"Extra recommendables in all_recommendables_df that are not in all_recommendables set:\")\n",
    "    print(\"\\n\".join(extra_recommendables))"
   ]
  },
  {
   "cell_type": "code",
   "execution_count": 37,
   "id": "2d16c519",
   "metadata": {},
   "outputs": [
    {
     "name": "stdout",
     "output_type": "stream",
     "text": [
      "Recommendables with non-two-letter modality:\n",
      "                                                  name                modality\n",
      "0                            Additional Imaging Needed                     NaN\n",
      "141            Interventional Procedure Recommendation                     NaN\n",
      "325                       Non-Radiology Recommendation                     NaN\n",
      "326  Recommendation for Additional Imaging - Latera...                     NaN\n",
      "327  Recommendation for Additional Imaging - Specia...                     NaN\n",
      "427                US Upper Extremity Non-Venous Right                   Elbow\n",
      "428                US Lower Extremity Non-Venous Right        US • Transrectal\n",
      "429                                  XR Thoracic Spine  X-Ray - Absorptiometry\n",
      "431                               XR Sacrum and Coccyx             Radiography\n",
      "432                                      US Lower Back        US • Transrectal\n",
      "433                                       XR Toe Right             Radiography\n",
      "434                 US Lower Extremity Non-Venous Left                   Foot \n",
      "436                          US Axilla Not Breast Left        US • Transrectal\n",
      "437                               XR Sacroiliac Joints     X-Ray - Diskography\n",
      "439                                        XR Toe Left             Radiography\n",
      "440                                 CT Pulmonary veins         Calcium Scoring\n",
      "441                                           XR Skull        X-Ray - Specimen\n",
      "443                                            NM HIDA             NUC - Spect\n",
      "444                                       MRI Toe Left        MRI - Functional\n",
      "445                         US Axilla Not Breast Right        US • Transrectal\n",
      "447                                 CT Chest Esophagus         Calcium Scoring\n",
      "448                                         XR Sternum             Radiography\n",
      "449                 US Upper Extremity Non-Venous Left                   Elbow\n",
      "450                             US Infant Spinal Canal             US - Infant\n",
      "451                                     US Infant Hips             US - Infant\n",
      "452                                 XR Skeletal Survey                   Bone \n"
     ]
    }
   ],
   "source": [
    "# Find the recommendables in all_recommendables_df whose modality is not a two-letter code\n",
    "non_two_letter_modality = all_recommendables_df[~all_recommendables_df[\"modality\"].str.match(r\"^[A-Z]{2,3}$\", na=False)]\n",
    "if not non_two_letter_modality.empty:\n",
    "    print(\"Recommendables with non-two-letter modality:\")\n",
    "    print(non_two_letter_modality[[\"name\", \"modality\"]])\n",
    "# --- IGNORE ---"
   ]
  },
  {
   "cell_type": "code",
   "execution_count": 42,
   "id": "897a52b7",
   "metadata": {},
   "outputs": [],
   "source": [
    "fixed_modalities = {\n",
    "    427: \"US\",\n",
    "    428: \"US\",\n",
    "    429: \"XR\",\n",
    "    430: \"MR\",\n",
    "    431: \"XR\",\n",
    "    432: \"US\",\n",
    "    433: \"XR\",\n",
    "    434: \"US\",  \n",
    "    436: \"US\",\n",
    "    437: \"XR\",\n",
    "    438: \"MR\",\n",
    "    439: \"XR\",\n",
    "    440: \"CT\",\n",
    "    441: \"XR\",\n",
    "    443: \"NM\",\n",
    "    444: \"MR\",\n",
    "    445: \"US\",\n",
    "    447: \"CT\",\n",
    "    448: \"XR\",\n",
    "    449: \"US\",\n",
    "    450: \"US\",\n",
    "    451: \"US\",\n",
    "    452: \"XR\",\n",
    "}"
   ]
  },
  {
   "cell_type": "code",
   "execution_count": 43,
   "id": "5e454e2a",
   "metadata": {},
   "outputs": [],
   "source": [
    "# Update the all_recommendables_df with the fixed modalities; the keys are indices, not ids\n",
    "for index, modality in fixed_modalities.items():\n",
    "    all_recommendables_df.loc[index, \"modality\"] = modality"
   ]
  },
  {
   "cell_type": "code",
   "execution_count": 45,
   "id": "781ed503",
   "metadata": {},
   "outputs": [],
   "source": [
    "all_recommendables_df.loc[443, \"category\"] = \"nm\"\n",
    "all_recommendables_df.loc[443, \"region\"] = \"abdomen\""
   ]
  },
  {
   "cell_type": "code",
   "execution_count": 46,
   "id": "c8d0267d",
   "metadata": {},
   "outputs": [
    {
     "name": "stdout",
     "output_type": "stream",
     "text": [
      "Duplicate IDs in all_recommendables_df:\n",
      "       id                        name\n",
      "333  6573   US Axilla Non Breast Left\n",
      "334  6574  US Axilla Non Breast Right\n",
      "436  6573   US Axilla Not Breast Left\n",
      "445  6574  US Axilla Not Breast Right\n"
     ]
    }
   ],
   "source": [
    "# Find the values for ID that occur more than once in the all_recommendables_df\n",
    "duplicate_ids = all_recommendables_df[all_recommendables_df.duplicated(subset=[\"id\"], keep=False)]\n",
    "if not duplicate_ids.empty:\n",
    "    print(\"Duplicate IDs in all_recommendables_df:\")\n",
    "    print(duplicate_ids[[\"id\", \"name\"]])"
   ]
  },
  {
   "cell_type": "code",
   "execution_count": 47,
   "id": "09be5816",
   "metadata": {},
   "outputs": [],
   "source": [
    "# Drop rows 333 and 334 from all_recommendables_df\n",
    "all_recommendables_df.drop(index=[333, 334], inplace=True)"
   ]
  },
  {
   "cell_type": "code",
   "execution_count": null,
   "id": "8b22d788",
   "metadata": {},
   "outputs": [],
   "source": []
  }
 ],
 "metadata": {
  "kernelspec": {
   "display_name": "fu-rec-helper-py3.11 (3.11.13)",
   "language": "python",
   "name": "python3"
  },
  "language_info": {
   "codemirror_mode": {
    "name": "ipython",
    "version": 3
   },
   "file_extension": ".py",
   "mimetype": "text/x-python",
   "name": "python",
   "nbconvert_exporter": "python",
   "pygments_lexer": "ipython3",
   "version": "3.11.13"
  }
 },
 "nbformat": 4,
 "nbformat_minor": 5
}
